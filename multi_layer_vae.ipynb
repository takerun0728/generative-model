{
 "cells": [
  {
   "cell_type": "code",
   "execution_count": 1,
   "metadata": {},
   "outputs": [],
   "source": [
    "import torch\n",
    "import torch.utils\n",
    "import torch.nn as nn\n",
    "import torch.nn.functional as F\n",
    "import torchvision\n",
    "import torchvision.transforms as transforms\n",
    "from IPython.display import clear_output\n",
    "import matplotlib.pyplot as plt"
   ]
  },
  {
   "cell_type": "code",
   "execution_count": 2,
   "metadata": {},
   "outputs": [],
   "source": [
    "class Decoder(nn.Module):\n",
    "    def __init__(self, latent_dim, data_dim, hidden_dim):\n",
    "        super().__init__()\n",
    "        self.linear1 = nn.Linear(latent_dim, hidden_dim)\n",
    "        self.linear2 = nn.Linear(hidden_dim, data_dim)\n",
    "\n",
    "    def forward(self, x):\n",
    "        y = self.linear1(x)\n",
    "        y = F.relu(y)\n",
    "        return self.linear2(y)"
   ]
  },
  {
   "cell_type": "code",
   "execution_count": 3,
   "metadata": {},
   "outputs": [],
   "source": [
    "class Encoder(nn.Module):\n",
    "    def __init__(self, data_dim, latent_dim, hidden_dim):\n",
    "        super().__init__()\n",
    "        self.linear1 = nn.Linear(data_dim, hidden_dim)\n",
    "        self.linear_mean = nn.Linear(hidden_dim, latent_dim)\n",
    "        self.linear_logvar = nn.Linear(hidden_dim, latent_dim)\n",
    "\n",
    "    def forward(self, x):\n",
    "        y = self.linear1(x)\n",
    "        y = F.relu(y)\n",
    "        return self.linear_mean(y), torch.exp(self.linear_logvar(y)/2)"
   ]
  },
  {
   "cell_type": "code",
   "execution_count": 4,
   "metadata": {},
   "outputs": [],
   "source": [
    "class VAEMultiLayer(nn.Module):\n",
    "    def __init__(self, data_dim, latent_dim, hidden_dim, layer_num):\n",
    "        super().__init__()\n",
    "        self.output_dec = Decoder(latent_dim, data_dim, hidden_dim)\n",
    "        self.latent_decs = [Decoder(latent_dim, latent_dim, hidden_dim) for i in range(layer_num - 1)]\n",
    "        self.input_enc = Encoder(data_dim, latent_dim, hidden_dim)\n",
    "        self.latent_encs = [Encoder(latent_dim, latent_dim, hidden_dim) for i in range(layer_num - 1)]\n",
    "        self.latent_dim = latent_dim\n",
    "        self.layer_num = layer_num\n",
    "\n",
    "    def get_loss(self, x):\n",
    "        e = torch.randn(self.layer_num, len(x), self.latent_dim)\n",
    "        mu = []\n",
    "        sigma = []\n",
    "        z = []\n",
    "\n",
    "        tmp_mu, tmp_sigma = self.input_enc(x)\n",
    "        mu.append(tmp_mu)\n",
    "        sigma.append(tmp_sigma)\n",
    "        z.append(mu[0] + sigma[0]*e[0])\n",
    "        for i, enc in enumerate(self.latent_encs):\n",
    "            tmp_mu, tmp_sigma = enc(z[i])\n",
    "            mu.append(tmp_mu)\n",
    "            sigma.append(tmp_sigma)\n",
    "            z.append(mu[i+1] + sigma[i+1]*e[i+1])\n",
    "        \n",
    "        loss = 0\n",
    "        x_hat = self.output_dec(z[0])\n",
    "        loss += F.mse_loss(x, x_hat, reduction='sum')\n",
    "        for i, dec in enumerate(self.latent_decs):\n",
    "            var = sigma[i]**2\n",
    "            z_hat = dec(z[i+1])\n",
    "            loss += -(1 + torch.log(var) - (mu[i]-z_hat)**2 - var).sum()\n",
    "        var = sigma[-1]**2\n",
    "        loss += -(1 + torch.log(var) - mu[-1]**2 -var).sum()\n",
    "\n",
    "        return loss\n",
    "    \n",
    "    def genearte(self, n=1):\n",
    "        z = torch.randn(n, self.latent_dim)\n",
    "        for dec in reversed(self.latent_decs):\n",
    "            z_hat = dec(z)\n",
    "            z = z_hat + torch.randn(n, self.latent_dim)\n",
    "        return self.output_dec(z)\n"
   ]
  },
  {
   "cell_type": "code",
   "execution_count": 7,
   "metadata": {},
   "outputs": [],
   "source": [
    "batch_size = 200\n",
    "latent_dim = 20\n",
    "hidden_dim = 100\n",
    "layer_num = 3\n",
    "epoch_num = 50"
   ]
  },
  {
   "cell_type": "code",
   "execution_count": 6,
   "metadata": {},
   "outputs": [
    {
     "name": "stdout",
     "output_type": "stream",
     "text": [
      "Files already downloaded and verified\n"
     ]
    }
   ],
   "source": [
    "transform = transforms.Compose([\n",
    "    transforms.ToTensor(),\n",
    "    transforms.Lambda(torch.flatten)\n",
    "])\n",
    "\n",
    "dataset = torchvision.datasets.CIFAR10(\n",
    "    root='./data',\n",
    "    train=True,\n",
    "    transform=transform,\n",
    "    download=True\n",
    ")\n",
    "\n",
    "dataloader = torch.utils.data.DataLoader(dataset, batch_size=batch_size, shuffle=True)"
   ]
  },
  {
   "cell_type": "code",
   "execution_count": 8,
   "metadata": {},
   "outputs": [
    {
     "data": {
      "image/png": "[encoded data removed]",
      "text/plain": [
       "<Figure size 640x480 with 1 Axes>"
      ]
     },
     "metadata": {},
     "output_type": "display_data"
    }
   ],
   "source": [
    "torch.random.manual_seed(0)\n",
    "\n",
    "vae = VAEMultiLayer(len(dataset[0][0]), latent_dim, hidden_dim, layer_num)\n",
    "optimizer = torch.optim.Adam(vae.parameters())\n",
    "loss_sum_rec = []\n",
    "\n",
    "for epoch in range(epoch_num):\n",
    "    loss_sum_rec.append(0)\n",
    "    for x, label in dataloader:\n",
    "        loss = vae.get_loss(x)\n",
    "        loss_sum_rec[-1] += loss.item()\n",
    "        loss.backward()\n",
    "        optimizer.step()\n",
    "        optimizer.zero_grad()\n",
    "\n",
    "    loss_sum_rec[-1] /= len(dataset)\n",
    "    plt.clf()\n",
    "    plt.plot(range(len(loss_sum_rec)), loss_sum_rec, marker='o')\n",
    "    plt.pause(0.00001)\n",
    "    clear_output(wait=True)"
   ]
  },
  {
   "cell_type": "code",
   "execution_count": null,
   "metadata": {},
   "outputs": [],
   "source": [
    "sample_num = 256\n",
    "with torch.no_grad():\n",
    "    "
   ]
  }
 ],
 "metadata": {
  "kernelspec": {
   "display_name": ".venv",
   "language": "python",
   "name": "python3"
  },
  "language_info": {
   "codemirror_mode": {
    "name": "ipython",
    "version": 3
   },
   "file_extension": ".py",
   "mimetype": "text/x-python",
   "name": "python",
   "nbconvert_exporter": "python",
   "pygments_lexer": "ipython3",
   "version": "3.12.3"
  }
 },
 "nbformat": 4,
 "nbformat_minor": 2
}
